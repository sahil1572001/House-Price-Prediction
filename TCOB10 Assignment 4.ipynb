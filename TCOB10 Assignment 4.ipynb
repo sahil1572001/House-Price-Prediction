{
 "cells": [
  {
   "cell_type": "code",
   "execution_count": null,
   "id": "2c732ae3",
   "metadata": {},
   "outputs": [],
   "source": [
    "# Create a Linear Regression Model using Python/R to predict home prices using Boston Housing Dataset \n",
    "# (https://www.kaggle.com/c/boston-housing). The Boston Housing dataset contains information about various houses \n",
    "# in Boston through different parameters. There are 506 samples and 14 feature variables in this dataset.\n",
    "# The objective is to predict the value of prices of the house using the given features."
   ]
  },
  {
   "cell_type": "code",
   "execution_count": 19,
   "id": "4c8b6879",
   "metadata": {},
   "outputs": [],
   "source": [
    "import pandas as pd\n",
    "import numpy as np\n",
    "import matplotlib.pyplot as plt"
   ]
  },
  {
   "cell_type": "code",
   "execution_count": 56,
   "id": "433dde9b",
   "metadata": {},
   "outputs": [],
   "source": [
    "#Load the Boston Housing Data Set from sklearn.datasets and print it\n",
    "\n",
    "dataset=pd.read_csv(\"boston_housing.csv\")\n",
    "X=dataset.iloc[:,:-1].values\n",
    "Y=dataset.iloc[:,-1].values"
   ]
  },
  {
   "cell_type": "code",
   "execution_count": 57,
   "id": "737dd6ec",
   "metadata": {},
   "outputs": [
    {
     "data": {
      "text/plain": [
       "<AxesSubplot:>"
      ]
     },
     "execution_count": 57,
     "metadata": {},
     "output_type": "execute_result"
    },
    {
     "data": {
      "image/png": "[encoded data removed]",
      "text/plain": [
       "<Figure size 432x288 with 1 Axes>"
      ]
     },
     "metadata": {
      "needs_background": "light"
     },
     "output_type": "display_data"
    }
   ],
   "source": [
    "import seaborn as sns\n",
    "sns.heatmap(dataset.isnull(), cbar=False)"
   ]
  },
  {
   "cell_type": "code",
   "execution_count": 58,
   "id": "7eebeb82",
   "metadata": {},
   "outputs": [
    {
     "data": {
      "text/html": [
       "<div>\n",
       "<style scoped>\n",
       "    .dataframe tbody tr th:only-of-type {\n",
       "        vertical-align: middle;\n",
       "    }\n",
       "\n",
       "    .dataframe tbody tr th {\n",
       "        vertical-align: top;\n",
       "    }\n",
       "\n",
       "    .dataframe thead th {\n",
       "        text-align: right;\n",
       "    }\n",
       "</style>\n",
       "<table border=\"1\" class=\"dataframe\">\n",
       "  <thead>\n",
       "    <tr style=\"text-align: right;\">\n",
       "      <th></th>\n",
       "      <th>crim</th>\n",
       "      <th>zn</th>\n",
       "      <th>indus</th>\n",
       "      <th>chas</th>\n",
       "      <th>nox</th>\n",
       "      <th>rm</th>\n",
       "      <th>age</th>\n",
       "      <th>dis</th>\n",
       "      <th>rad</th>\n",
       "      <th>tax</th>\n",
       "      <th>ptratio</th>\n",
       "      <th>black</th>\n",
       "      <th>lstat</th>\n",
       "      <th>medv</th>\n",
       "    </tr>\n",
       "  </thead>\n",
       "  <tbody>\n",
       "    <tr>\n",
       "      <th>count</th>\n",
       "      <td>506.000000</td>\n",
       "      <td>506.000000</td>\n",
       "      <td>506.000000</td>\n",
       "      <td>506.000000</td>\n",
       "      <td>506.000000</td>\n",
       "      <td>506.000000</td>\n",
       "      <td>506.000000</td>\n",
       "      <td>506.000000</td>\n",
       "      <td>506.000000</td>\n",
       "      <td>506.000000</td>\n",
       "      <td>506.000000</td>\n",
       "      <td>506.000000</td>\n",
       "      <td>506.000000</td>\n",
       "      <td>506.000000</td>\n",
       "    </tr>\n",
       "    <tr>\n",
       "      <th>mean</th>\n",
       "      <td>3.613524</td>\n",
       "      <td>11.363636</td>\n",
       "      <td>11.136779</td>\n",
       "      <td>0.069170</td>\n",
       "      <td>0.554695</td>\n",
       "      <td>6.284634</td>\n",
       "      <td>68.574901</td>\n",
       "      <td>3.795043</td>\n",
       "      <td>9.549407</td>\n",
       "      <td>408.237154</td>\n",
       "      <td>18.455534</td>\n",
       "      <td>356.674032</td>\n",
       "      <td>12.653063</td>\n",
       "      <td>22.532806</td>\n",
       "    </tr>\n",
       "    <tr>\n",
       "      <th>std</th>\n",
       "      <td>8.601545</td>\n",
       "      <td>23.322453</td>\n",
       "      <td>6.860353</td>\n",
       "      <td>0.253994</td>\n",
       "      <td>0.115878</td>\n",
       "      <td>0.702617</td>\n",
       "      <td>28.148861</td>\n",
       "      <td>2.105710</td>\n",
       "      <td>8.707259</td>\n",
       "      <td>168.537116</td>\n",
       "      <td>2.164946</td>\n",
       "      <td>91.294864</td>\n",
       "      <td>7.141062</td>\n",
       "      <td>9.197104</td>\n",
       "    </tr>\n",
       "    <tr>\n",
       "      <th>min</th>\n",
       "      <td>0.006320</td>\n",
       "      <td>0.000000</td>\n",
       "      <td>0.460000</td>\n",
       "      <td>0.000000</td>\n",
       "      <td>0.385000</td>\n",
       "      <td>3.561000</td>\n",
       "      <td>2.900000</td>\n",
       "      <td>1.129600</td>\n",
       "      <td>1.000000</td>\n",
       "      <td>187.000000</td>\n",
       "      <td>12.600000</td>\n",
       "      <td>0.320000</td>\n",
       "      <td>1.730000</td>\n",
       "      <td>5.000000</td>\n",
       "    </tr>\n",
       "    <tr>\n",
       "      <th>25%</th>\n",
       "      <td>0.082045</td>\n",
       "      <td>0.000000</td>\n",
       "      <td>5.190000</td>\n",
       "      <td>0.000000</td>\n",
       "      <td>0.449000</td>\n",
       "      <td>5.885500</td>\n",
       "      <td>45.025000</td>\n",
       "      <td>2.100175</td>\n",
       "      <td>4.000000</td>\n",
       "      <td>279.000000</td>\n",
       "      <td>17.400000</td>\n",
       "      <td>375.377500</td>\n",
       "      <td>6.950000</td>\n",
       "      <td>17.025000</td>\n",
       "    </tr>\n",
       "    <tr>\n",
       "      <th>50%</th>\n",
       "      <td>0.256510</td>\n",
       "      <td>0.000000</td>\n",
       "      <td>9.690000</td>\n",
       "      <td>0.000000</td>\n",
       "      <td>0.538000</td>\n",
       "      <td>6.208500</td>\n",
       "      <td>77.500000</td>\n",
       "      <td>3.207450</td>\n",
       "      <td>5.000000</td>\n",
       "      <td>330.000000</td>\n",
       "      <td>19.050000</td>\n",
       "      <td>391.440000</td>\n",
       "      <td>11.360000</td>\n",
       "      <td>21.200000</td>\n",
       "    </tr>\n",
       "    <tr>\n",
       "      <th>75%</th>\n",
       "      <td>3.677083</td>\n",
       "      <td>12.500000</td>\n",
       "      <td>18.100000</td>\n",
       "      <td>0.000000</td>\n",
       "      <td>0.624000</td>\n",
       "      <td>6.623500</td>\n",
       "      <td>94.075000</td>\n",
       "      <td>5.188425</td>\n",
       "      <td>24.000000</td>\n",
       "      <td>666.000000</td>\n",
       "      <td>20.200000</td>\n",
       "      <td>396.225000</td>\n",
       "      <td>16.955000</td>\n",
       "      <td>25.000000</td>\n",
       "    </tr>\n",
       "    <tr>\n",
       "      <th>max</th>\n",
       "      <td>88.976200</td>\n",
       "      <td>100.000000</td>\n",
       "      <td>27.740000</td>\n",
       "      <td>1.000000</td>\n",
       "      <td>0.871000</td>\n",
       "      <td>8.780000</td>\n",
       "      <td>100.000000</td>\n",
       "      <td>12.126500</td>\n",
       "      <td>24.000000</td>\n",
       "      <td>711.000000</td>\n",
       "      <td>22.000000</td>\n",
       "      <td>396.900000</td>\n",
       "      <td>37.970000</td>\n",
       "      <td>50.000000</td>\n",
       "    </tr>\n",
       "  </tbody>\n",
       "</table>\n",
       "</div>"
      ],
      "text/plain": [
       "             crim          zn       indus        chas         nox          rm  \\\n",
       "count  506.000000  506.000000  506.000000  506.000000  506.000000  506.000000   \n",
       "mean     3.613524   11.363636   11.136779    0.069170    0.554695    6.284634   \n",
       "std      8.601545   23.322453    6.860353    0.253994    0.115878    0.702617   \n",
       "min      0.006320    0.000000    0.460000    0.000000    0.385000    3.561000   \n",
       "25%      0.082045    0.000000    5.190000    0.000000    0.449000    5.885500   \n",
       "50%      0.256510    0.000000    9.690000    0.000000    0.538000    6.208500   \n",
       "75%      3.677083   12.500000   18.100000    0.000000    0.624000    6.623500   \n",
       "max     88.976200  100.000000   27.740000    1.000000    0.871000    8.780000   \n",
       "\n",
       "              age         dis         rad         tax     ptratio       black  \\\n",
       "count  506.000000  506.000000  506.000000  506.000000  506.000000  506.000000   \n",
       "mean    68.574901    3.795043    9.549407  408.237154   18.455534  356.674032   \n",
       "std     28.148861    2.105710    8.707259  168.537116    2.164946   91.294864   \n",
       "min      2.900000    1.129600    1.000000  187.000000   12.600000    0.320000   \n",
       "25%     45.025000    2.100175    4.000000  279.000000   17.400000  375.377500   \n",
       "50%     77.500000    3.207450    5.000000  330.000000   19.050000  391.440000   \n",
       "75%     94.075000    5.188425   24.000000  666.000000   20.200000  396.225000   \n",
       "max    100.000000   12.126500   24.000000  711.000000   22.000000  396.900000   \n",
       "\n",
       "            lstat        medv  \n",
       "count  506.000000  506.000000  \n",
       "mean    12.653063   22.532806  \n",
       "std      7.141062    9.197104  \n",
       "min      1.730000    5.000000  \n",
       "25%      6.950000   17.025000  \n",
       "50%     11.360000   21.200000  \n",
       "75%     16.955000   25.000000  \n",
       "max     37.970000   50.000000  "
      ]
     },
     "execution_count": 58,
     "metadata": {},
     "output_type": "execute_result"
    }
   ],
   "source": [
    "dataset.describe()"
   ]
  },
  {
   "cell_type": "code",
   "execution_count": 59,
   "id": "d3baa72c",
   "metadata": {},
   "outputs": [
    {
     "name": "stdout",
     "output_type": "stream",
     "text": [
      "[[6.3200e-03 1.8000e+01 2.3100e+00 ... 1.5300e+01 3.9690e+02 4.9800e+00]\n",
      " [2.7310e-02 0.0000e+00 7.0700e+00 ... 1.7800e+01 3.9690e+02 9.1400e+00]\n",
      " [2.7290e-02 0.0000e+00 7.0700e+00 ... 1.7800e+01 3.9283e+02 4.0300e+00]\n",
      " ...\n",
      " [6.0760e-02 0.0000e+00 1.1930e+01 ... 2.1000e+01 3.9690e+02 5.6400e+00]\n",
      " [1.0959e-01 0.0000e+00 1.1930e+01 ... 2.1000e+01 3.9345e+02 6.4800e+00]\n",
      " [4.7410e-02 0.0000e+00 1.1930e+01 ... 2.1000e+01 3.9690e+02 7.8800e+00]]\n"
     ]
    }
   ],
   "source": [
    "from sklearn.impute import SimpleImputer\n",
    "imputer=SimpleImputer(missing_values=np.nan, strategy='mean')\n",
    "imputer.fit(X[:,1:])\n",
    "X[:,1:]=imputer.transform(X[:,1:])\n",
    "print(X)"
   ]
  },
  {
   "cell_type": "code",
   "execution_count": 60,
   "id": "9d0e40f9",
   "metadata": {},
   "outputs": [],
   "source": [
    "from sklearn.model_selection import train_test_split\n",
    "X_train,X_test,Y_train,Y_test=train_test_split(X,Y,test_size=0.2,random_state=0)"
   ]
  },
  {
   "cell_type": "code",
   "execution_count": 61,
   "id": "9aa4b849",
   "metadata": {},
   "outputs": [
    {
     "name": "stdout",
     "output_type": "stream",
     "text": [
      "[[3.5809e-01 0.0000e+00 6.2000e+00 ... 1.7400e+01 3.9170e+02 9.7100e+00]\n",
      " [1.5876e-01 0.0000e+00 1.0810e+01 ... 1.9200e+01 3.7694e+02 9.8800e+00]\n",
      " [1.1329e-01 3.0000e+01 4.9300e+00 ... 1.6600e+01 3.9125e+02 1.1380e+01]\n",
      " ...\n",
      " [1.5098e-01 0.0000e+00 1.0010e+01 ... 1.7800e+01 3.9451e+02 1.0300e+01]\n",
      " [2.2927e-01 0.0000e+00 6.9100e+00 ... 1.7900e+01 3.9274e+02 1.8800e+01]\n",
      " [1.3914e-01 0.0000e+00 4.0500e+00 ... 1.6600e+01 3.9690e+02 1.4690e+01]]\n"
     ]
    }
   ],
   "source": [
    "print(X_train)"
   ]
  },
  {
   "cell_type": "code",
   "execution_count": 62,
   "id": "6255d13e",
   "metadata": {},
   "outputs": [
    {
     "name": "stdout",
     "output_type": "stream",
     "text": [
      "[[6.7240e-02 0.0000e+00 3.2400e+00 ... 1.6900e+01 3.7521e+02 7.3400e+00]\n",
      " [9.2323e+00 0.0000e+00 1.8100e+01 ... 2.0200e+01 3.6615e+02 9.5300e+00]\n",
      " [1.1425e-01 0.0000e+00 1.3890e+01 ... 1.6400e+01 3.9374e+02 1.0500e+01]\n",
      " ...\n",
      " [1.4932e-01 2.5000e+01 5.1300e+00 ... 1.9700e+01 3.9511e+02 1.3150e+01]\n",
      " [1.4052e-01 0.0000e+00 1.0590e+01 ... 1.8600e+01 3.8581e+02 9.3800e+00]\n",
      " [1.2802e-01 0.0000e+00 8.5600e+00 ... 2.0900e+01 3.9524e+02 1.2270e+01]]\n"
     ]
    }
   ],
   "source": [
    "print(X_test)"
   ]
  },
  {
   "cell_type": "code",
   "execution_count": 63,
   "id": "adfcdb73",
   "metadata": {},
   "outputs": [
    {
     "name": "stdout",
     "output_type": "stream",
     "text": [
      "[26.7 21.7 22.  22.9 10.4 21.9 20.6 26.4 41.3 17.2 27.1 20.4 16.5 24.4\n",
      "  8.4 23.   9.7 50.  30.5 12.3 19.4 21.2 20.3 18.8 33.4 18.5 19.6 33.2\n",
      " 13.1  7.5 13.6 17.4  8.4 35.4 24.  13.4 26.2  7.2 13.1 24.5 37.2 25.\n",
      " 24.1 16.6 32.9 36.2 11.   7.2 22.8 28.7 14.4 24.4 18.1 22.5 20.5 15.2\n",
      " 17.4 13.6  8.7 18.2 35.4 31.7 33.  22.2 20.4 23.9 25.  12.7 29.1 12.\n",
      " 17.7 27.  20.6 10.2 17.5 19.7 29.8 20.5 14.9 10.9 19.5 22.7 19.5 24.6\n",
      " 25.  24.5 50.  14.3 11.8 31.  28.7 16.2 43.5 25.  22.  19.9 22.1 46.\n",
      " 22.9 20.2 43.1 34.6 13.8 24.3 21.5 24.4 21.2 23.8 26.6 25.1  9.6 19.4\n",
      " 19.4  9.5 14.  26.5 13.8 34.7 16.3 21.7 17.5 15.6 20.9 21.7 12.7 18.5\n",
      " 23.7 19.3 12.7 21.6 23.2 29.6 21.2 23.8 17.1 22.  36.5 18.8 21.9 23.1\n",
      " 20.2 17.4 37.  24.1 36.2 15.7 32.2 13.5 17.9 13.3 11.7 41.7 18.4 13.1\n",
      " 25.  21.2 16.  34.9 25.2 24.8 21.5 23.4 18.9 10.8 21.  27.5 17.5 13.5\n",
      " 28.7 14.8 19.1 28.6 13.1 19.  11.3 13.3 22.4 20.1 18.2 22.9 20.6 25.\n",
      " 12.8 34.9 23.7 50.  29.  30.1 22.  15.6 23.3 30.1 14.3 22.8 50.  20.8\n",
      "  6.3 34.9 32.4 19.9 20.3 17.8 23.1 20.4 23.2  7.  16.8 46.7 50.  22.9\n",
      " 23.9 21.4 21.7 15.4 15.3 23.1 23.9 19.4 11.9 17.8 31.5 33.8 20.8 19.8\n",
      " 22.4  5.  24.5 19.4 15.1 18.2 19.3 27.1 20.7 37.6 11.7 33.4 30.1 21.4\n",
      " 45.4 20.1 20.8 26.4 10.4 21.8 32.  21.7 18.4 37.9 17.8 28.  28.2 36.\n",
      " 18.9 15.  22.5 30.7 20.  19.1 23.3 26.6 21.1 19.7 20.  12.1  7.2 14.2\n",
      " 17.3 27.5 22.2 10.9 19.2 32.  14.5 24.7 12.6 24.  24.1 50.  16.1 43.8\n",
      " 26.6 36.1 21.8 29.9 50.  44.  20.6 19.6 28.4 19.1 22.3 20.9 28.4 14.4\n",
      " 32.7 13.8  8.5 22.5 35.1 31.6 17.8 15.6 20.7 39.8 17.8 19.6 14.9 22.\n",
      " 48.8 25.  48.5 23.9 20.3 15.2 10.5 19.  16.4  8.8 22.  24.8 50.  19.3\n",
      " 22.7 37.3 31.6  8.3 23.1 50.  13.9 16.1 25.3 19.5 10.2 19.9 35.2 13.4\n",
      " 24.7 11.5 23.4 16.7 15.4 18.  28.5 18.4 32.5 50.  50.  19.6 17.6 42.3\n",
      " 14.5 13.2 16.2 29.6 16.7 13.  22.3 13.4  5.  19.5 14.6 22.   8.1 24.6\n",
      " 33.2 20.6 14.1 14.1 21.1 30.3 23.7 21.4 18.3  8.5 22.8 22.8 22.2 13.9\n",
      " 25.  18.5  7.  22.6 20.1 30.8 31.1 23.8 12.5 23.6 23.2 24.2 22.2 27.9\n",
      " 22.2 33.1 19.3 18.9 22.6 50.  24.8 18.5 36.4 19.2 16.6 23.1]\n"
     ]
    }
   ],
   "source": [
    "print(Y_train)"
   ]
  },
  {
   "cell_type": "code",
   "execution_count": 64,
   "id": "77db4851",
   "metadata": {},
   "outputs": [
    {
     "name": "stdout",
     "output_type": "stream",
     "text": [
      "[22.6 50.  23.   8.3 21.2 19.9 20.6 18.7 16.1 18.6  8.8 17.2 14.9 10.5\n",
      " 50.  29.  23.  33.3 29.4 21.  23.8 19.1 20.4 29.1 19.3 23.1 19.6 19.4\n",
      " 38.7 18.7 14.6 20.  20.5 20.1 23.6 16.8  5.6 50.  14.5 13.3 23.9 20.\n",
      " 19.8 13.8 16.5 21.6 20.3 17.  11.8 27.5 15.6 23.1 24.3 42.8 15.6 21.7\n",
      " 17.1 17.2 15.  21.7 18.6 21.  33.1 31.5 20.1 29.8 15.2 15.  27.5 22.6\n",
      " 20.  21.4 23.5 31.2 23.7  7.4 48.3 24.4 22.6 18.3 23.3 17.1 27.9 44.8\n",
      " 50.  23.  21.4 10.2 23.3 23.2 18.9 13.4 21.9 24.8 11.9 24.3 13.8 24.7\n",
      " 14.1 18.7 28.1 19.8]\n"
     ]
    }
   ],
   "source": [
    "print(Y_test)"
   ]
  },
  {
   "cell_type": "code",
   "execution_count": 65,
   "id": "2d7d75ce",
   "metadata": {},
   "outputs": [
    {
     "data": {
      "text/plain": [
       "LinearRegression()"
      ]
     },
     "execution_count": 65,
     "metadata": {},
     "output_type": "execute_result"
    }
   ],
   "source": [
    "from sklearn.linear_model import LinearRegression\n",
    "regressor=LinearRegression()\n",
    "regressor.fit(X_train,Y_train)"
   ]
  },
  {
   "cell_type": "code",
   "execution_count": 66,
   "id": "4177837e",
   "metadata": {},
   "outputs": [
    {
     "data": {
      "text/plain": [
       "Text(0.5, 1.0, 'Price - Volume Data')"
      ]
     },
     "execution_count": 66,
     "metadata": {},
     "output_type": "execute_result"
    },
    {
     "data": {
      "image/png": "[encoded data removed]",
      "text/plain": [
       "<Figure size 432x288 with 1 Axes>"
      ]
     },
     "metadata": {
      "needs_background": "light"
     },
     "output_type": "display_data"
    }
   ],
   "source": [
    "plt.scatter(dataset['crim'],dataset['medv'])\n",
    "plt.xlabel('Volume')\n",
    "plt.ylabel('Price')\n",
    "plt.title('Price - Volume Data')"
   ]
  },
  {
   "cell_type": "code",
   "execution_count": 67,
   "id": "2df756b1",
   "metadata": {},
   "outputs": [
    {
     "name": "stdout",
     "output_type": "stream",
     "text": [
      "[24.88963777 23.72141085 29.36499868 12.12238621 21.44382254 19.2834443\n",
      " 20.49647539 21.36099298 18.8967118  19.9280658   5.12703513 16.3867396\n",
      " 17.07776485  5.59375659 39.99636726 32.49654668 22.45798809 36.85192327\n",
      " 30.86401089 23.15140009 24.77495789 24.67187756 20.59543752 30.35369168\n",
      " 22.41940736 10.23266565 17.64816865 18.27419652 35.53362541 20.96084724\n",
      " 18.30413012 17.79262072 19.96561663 24.06127231 29.10204874 19.27774123\n",
      " 11.15536648 24.57560579 17.5862644  15.49454112 26.20577527 20.86304693\n",
      " 22.31460516 15.60710156 23.00363104 25.17247952 20.11459464 22.90256276\n",
      " 10.0380507  24.28515123 20.94127711 17.35258791 24.52235405 29.95143046\n",
      " 13.42695877 21.72673066 20.7897053  15.49668805 13.98982601 22.18377874\n",
      " 17.73047814 21.58869165 32.90522136 31.11235671 17.73252635 32.76358681\n",
      " 18.7124637  19.78693475 19.02958927 22.89825374 22.96041622 24.02555703\n",
      " 30.72859326 28.83142691 25.89957059  5.23251817 36.72183202 23.77267249\n",
      " 27.26856352 19.29492159 28.62304496 19.17978838 18.97185995 37.82397662\n",
      " 39.22012647 23.71261106 24.93076217 15.88545417 26.09845751 16.68819641\n",
      " 15.83515991 13.10775597 24.71583588 31.25165267 22.16640989 20.25087212\n",
      "  0.59025319 25.44217132 15.57178328 17.93719475 25.30588844 22.3732326 ]\n"
     ]
    }
   ],
   "source": [
    "y_pred=regressor.predict(X_test)\n",
    "print(y_pred)"
   ]
  },
  {
   "cell_type": "code",
   "execution_count": 68,
   "id": "d6c5e84b",
   "metadata": {},
   "outputs": [
    {
     "name": "stdout",
     "output_type": "stream",
     "text": [
      "Accuracy of the traning modle is : 66.55102000232353\n"
     ]
    }
   ],
   "source": [
    "from sklearn.metrics import mean_squared_error\n",
    "accuracy=100-mean_squared_error(Y_test, y_pred)\n",
    "print(\"Accuracy of the traning modle is :\",accuracy)"
   ]
  },
  {
   "cell_type": "code",
   "execution_count": 81,
   "id": "87b62507",
   "metadata": {},
   "outputs": [
    {
     "name": "stdout",
     "output_type": "stream",
     "text": [
      "0.00632\n",
      "18\n",
      "2.31\n",
      "0\n",
      "0.538\n",
      "6.575\n",
      "65.2\n",
      "4.09\n",
      "1\n",
      "296\n",
      "15.3\n",
      "396.9\n",
      "4.98\n",
      "price of new house is : 30.499498364556224 K $\n"
     ]
    }
   ],
   "source": [
    "inp_arr=[]\n",
    "for i in range(0,13):\n",
    "    x=float(input())\n",
    "    inp_arr.append(x)\n",
    "out=regressor.predict([inp_arr])\n",
    "print(\"price of new house is :\",out[0],\"K $\")\n",
    "\n"
   ]
  },
  {
   "cell_type": "code",
   "execution_count": null,
   "id": "3bdcf239",
   "metadata": {},
   "outputs": [],
   "source": []
  }
 ],
 "metadata": {
  "kernelspec": {
   "display_name": "Python 3",
   "language": "python",
   "name": "python3"
  },
  "language_info": {
   "codemirror_mode": {
    "name": "ipython",
    "version": 3
   },
   "file_extension": ".py",
   "mimetype": "text/x-python",
   "name": "python",
   "nbconvert_exporter": "python",
   "pygments_lexer": "ipython3",
   "version": "3.8.8"
  }
 },
 "nbformat": 4,
 "nbformat_minor": 5
}
